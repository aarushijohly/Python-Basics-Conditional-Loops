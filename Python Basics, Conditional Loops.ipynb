{
 "cells": [
  {
   "cell_type": "markdown",
   "id": "184fe1ca",
   "metadata": {},
   "source": [
    "# QUESTION 1"
   ]
  },
  {
   "cell_type": "code",
   "execution_count": null,
   "id": "53805fb1",
   "metadata": {
    "scrolled": false
   },
   "outputs": [],
   "source": [
    "l1 = []\n",
    "l = list(range(2000, 3201))\n",
    "for i in l:\n",
    "    if ((i%7 == 0) & (i not in range(2000,3201,5))):\n",
    "        l1.append(i)\n",
    "        \n",
    "l12 = [str(j) for j in l1]\n",
    "l13 = \", \".join(l12)\n",
    "\n",
    "print(l13)"
   ]
  },
  {
   "cell_type": "markdown",
   "id": "527cd343",
   "metadata": {},
   "source": [
    "# QUESTION 2"
   ]
  },
  {
   "cell_type": "code",
   "execution_count": null,
   "id": "faaaab35",
   "metadata": {},
   "outputs": [],
   "source": [
    "fst_name = str(input(\"Enter your fisrt name: \"))\n",
    "lst_name = str(input(\"Enter your last name: \"))\n",
    "\n",
    "a = fst_name + \" \" + lst_name\n",
    "\n",
    "print(a[::-1])"
   ]
  },
  {
   "cell_type": "markdown",
   "id": "198cfcd6",
   "metadata": {},
   "source": [
    "# QUESTION 3"
   ]
  },
  {
   "cell_type": "code",
   "execution_count": null,
   "id": "3c3a39e7",
   "metadata": {},
   "outputs": [],
   "source": [
    "r = int(input(\"Enter the radius of the sphere: \"))\n",
    "V = (4/3)*(22/7)*(r**3)\n",
    "print(V)"
   ]
  }
 ],
 "metadata": {
  "kernelspec": {
   "display_name": "Python 3",
   "language": "python",
   "name": "python3"
  },
  "language_info": {
   "codemirror_mode": {
    "name": "ipython",
    "version": 3
   },
   "file_extension": ".py",
   "mimetype": "text/x-python",
   "name": "python",
   "nbconvert_exporter": "python",
   "pygments_lexer": "ipython3",
   "version": "3.8.8"
  }
 },
 "nbformat": 4,
 "nbformat_minor": 5
}
